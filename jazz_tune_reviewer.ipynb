{
 "cells": [
  {
   "cell_type": "code",
   "execution_count": 180,
   "id": "36779cfd",
   "metadata": {},
   "outputs": [
    {
     "name": "stdout",
     "output_type": "stream",
     "text": [
      "The length of list for jazz tunes to review is 346.\n",
      "Tunes to review for today, 2025-02-17, are \"If I Were a Bell\", \"Jitterbug Waltz\", \"You're My Everything\", \"Blue Train\", and \"On the Sunny Side of the Street\".\n",
      "Tunes left to review after today: 341\n"
     ]
    }
   ],
   "source": [
    "import pandas as pd\n",
    "import random\n",
    "from datetime import datetime\n",
    "import os\n",
    "\n",
    "# Set path for data directory\n",
    "dta = \"/Users/thomasfleming/Desktop/music\"\n",
    "\n",
    "# Set number of tunes to select for daily review\n",
    "num_tunes = 5;\n",
    "\n",
    "# Import lists of jazz tunes for review; set to complete list if it doesn't exist\n",
    "try:\n",
    "    df_rvw = pd.read_excel(f\"{dta}/jazz_tunes_for_review.xlsx\")\n",
    "except:\n",
    "    df_rvw = pd.read_excel(f\"{dta}/jazz_tune_complete_list.xlsx\")\n",
    "\n",
    "print(f\"The length of list for jazz tunes to review is {len(df_rvw)}.\")\n",
    "\n",
    "if len(df_rvw) != 0:\n",
    "\n",
    "    #Convert dataframe to list format and create list for tunes to review today\n",
    "    tunes_for_review = df_rvw[\"Tune\"].tolist()\n",
    "    todays_tunes = []\n",
    "\n",
    "    # Select random sample of N tunes from list\n",
    "    n = min(num_tunes, len(tunes_for_review))\n",
    "    daily_tunes = random.sample(tunes_for_review, n)\n",
    "    daily_tunes_str = str()\n",
    "    \n",
    "    # Loop through tunes, append to list of today's tunes, and remove from for-review list\n",
    "    for tune in daily_tunes:\n",
    "        todays_tunes.append(tune)\n",
    "        tunes_for_review.remove(tune)\n",
    "        \n",
    "        # Format today's tunes for prettier print output\n",
    "        if tune != daily_tunes[-1]:\n",
    "            daily_tunes_str += f'\"{tune}\", '\n",
    "        else:\n",
    "            daily_tunes_str += f'and \"{tune}\"'\n",
    "        \n",
    "    today = datetime.today().strftime('%Y-%m-%d')\n",
    "    print(f\"Tunes to review for today, {today}, are {daily_tunes_str}.\")\n",
    "    print(f\"Tunes left to review after today: {len(tunes_for_review)}\")\n",
    "    \n",
    "    # Convert lists back to dataframes and write out to Excel\n",
    "    df_for_review = pd.DataFrame(tunes_for_review, columns=['Tune'])\n",
    "    df_for_review.to_excel(f\"{dta}/jazz_tunes_for_review.xlsx\", index=False)\n",
    "    df_today = pd.DataFrame({\"Tune\": todays_tunes, \"Date\": [today] * n})\n",
    "    try:\n",
    "        # Append today's tunes to list of reviewed tunes\n",
    "        df_rvwd = pd.read_excel(f\"{dta}/jazz_tunes_reviewed.xlsx\")\n",
    "        df_rvwd = df_rvwd.append(df_today)\n",
    "        df_rvwd.to_excel(f\"{dta}/jazz_tunes_reviewed.xlsx\", index=False)\n",
    "    except:\n",
    "        # Create Excel workbook of reviewed tunes, if it doesn't exist\n",
    "        df_today.to_excel(f\"{dta}/jazz_tunes_reviewed.xlsx\", index=False)\n",
    "else:\n",
    "    # If no more tunes in list to review, delete reviewed tunes Excel workbook\n",
    "    # and recreate list of tunes to review\n",
    "    os.remove(f\"{dta}/jazz_tunes_for_review.xlsx\")\n",
    "    os.remove(f\"{dta}/jazz_tunes_reviewed.xlsx\")\n",
    "    df_cmplt = pd.read_excel(f\"{dta}/jazz_tune_complete_list.xlsx\")\n",
    "    df_cmplt.to_excel(f\"{dta}/jazz_tunes_for_review.xlsx\")"
   ]
  }
 ],
 "metadata": {
  "kernelspec": {
   "display_name": "Python 3",
   "language": "python",
   "name": "python3"
  },
  "language_info": {
   "codemirror_mode": {
    "name": "ipython",
    "version": 3
   },
   "file_extension": ".py",
   "mimetype": "text/x-python",
   "name": "python",
   "nbconvert_exporter": "python",
   "pygments_lexer": "ipython3",
   "version": "3.8.8"
  }
 },
 "nbformat": 4,
 "nbformat_minor": 5
}
